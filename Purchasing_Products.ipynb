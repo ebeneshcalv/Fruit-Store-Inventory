{
  "nbformat": 4,
  "nbformat_minor": 0,
  "metadata": {
    "colab": {
      "name": "Purchasing Products",
      "provenance": [],
      "collapsed_sections": [],
      "toc_visible": true
    },
    "kernelspec": {
      "name": "python3",
      "display_name": "Python 3"
    },
    "language_info": {
      "name": "python"
    }
  },
  "cells": [
    {
      "cell_type": "markdown",
      "metadata": {
        "id": "BKlCbC9vPARn"
      },
      "source": [
        "**READING THE INVENTORY**"
      ]
    },
    {
      "cell_type": "code",
      "metadata": {
        "id": "7OzG-pi2_oTF"
      },
      "source": [
        "import pandas as pd\n",
        "import json"
      ],
      "execution_count": 22,
      "outputs": []
    },
    {
      "cell_type": "code",
      "metadata": {
        "id": "hp5CebCmAMI0"
      },
      "source": [
        "content = {10001 : {\"FruitName\" : \"Cherry\", \"FruitType\" : \"Drupes\",  \"QuantityInKg\" : 1, \"Cost\" : 145, \"Total\" : 145},\n",
        "          10002 : {\"FruitName\" : \"Plum\", \"FruitType\" : \"Drupes\", \"QuantityInKg\" : 1, \"Cost\" : 70, \"Total\" : 70},\n",
        "          10003 : {\"FruitName\" : \"Peach\", \"FruitType\" : \"Drupes\", \"QuantityInKg\" : 1, \"Cost\" : 250, \"Total\" :250},\n",
        "          10004 : {\"FruitName\" : \"Grape\", \"FruitType\" : \"Berries\", \"QuantityInKg\" : 1, \"Cost\" : 40, \"Total\" :40},\n",
        "          10005 : {\"FruitName\" : \"Blueberry\", \"FruitType\" : \"Berries\", \"QuantityInKg\" : 1, \"Cost\" : 500, \"Total\" :500},\n",
        "          10006 : {\"FruitName\" : \"Gooseberry\", \"FruitType\" : \"Berrries\", \"QuantityInKg\" : 1, \"Cost\" : 225, \"Total\" :225},\n",
        "          10007 : {\"FruitName\" : \"Apple\", \"FruitType\" : \"Pomes\", \"QuantityInKg\" : 1, \"Cost\" : 125, \"Total\" :125},\n",
        "          10008 : {\"FruitName\" : \"Pear\", \"FruitType\" : \"Pomes\", \"QuantityInKg\" : 1, \"Cost\" : 400, \"Total\" :400},\n",
        "          10009 : {\"FruitName\" : \"Orange\", \"FruitType\" : \"Citrus\", \"QuantityInKg\" : 1, \"Cost\" : 200, \"Total\" :200},\n",
        "          10010 : {\"FruitName\" : \"Grapefruit\", \"FruitType\" : \"Citrus\", \"QuantityInKg\" : 1, \"Cost\" : 300, \"Total\" :300},\n",
        "          10011 : {\"FruitName\" : \"Lime\", \"FruitType\" : \"Citrus\", \"QuantityInKg\" : 1, \"Cost\" : 60, \"Total\" :60},\n",
        "          10012 : {\"FruitName\" : \"Lemon\", \"FruitType\" : \"Citrus\", \"QuantityInKg\" : 1, \"Cost\" : 100, \"Total\" :100},\n",
        "          10013 : {\"FruitName\" : \"Mandarin\", \"FruitType\" : \"Citrus\", \"QuantityInKg\" : 1, \"Cost\" : 250, \"Total\" :250},\n",
        "          10014 : {\"FruitName\" : \"Apricot\", \"FruitType\" : \"Drupes\", \"QuantityInKg\" : 1, \"Cost\" : 120, \"Total\" :120},\n",
        "          10015 : {\"FruitName\" : \"Cranberry\", \"FruitType\" : \"Berries\", \"QuantityInKg\" : 1, \"Cost\" : 480, \"Total\" :480},\n",
        "          10016 : {\"FruitName\" : \"Banana\", \"FruitType\" : \"Tropical\", \"QuantityInKg\" : 1, \"Cost\" : 36, \"Total\" :36},\n",
        "          10017 : {\"FruitName\" : \"Papaya\", \"FruitType\" : \"Tropical\", \"QuantityInKg\" : 1, \"Cost\" : 40, \"Total\" :40},\n",
        "          10018 : {\"FruitName\" : \"Mango\", \"FruitType\" : \"Drupes\", \"QuantityInKg\" : 1, \"Cost\" : 70, \"Total\" :70},\n",
        "          10019 : {\"FruitName\" : \"Pineapple\", \"FruitType\" : \"Tropical\", \"QuantityInKg\" : 1, \"Cost\" : 28, \"Total\" :28},\n",
        "          10020 : {\"FruitName\" : \"Guava\", \"FruitType\" : \"Tropical\", \"QuantityInKg\" : 1, \"Cost\" : 100, \"Total\" :100},\n",
        "          10021 : {\"FruitName\" : \"Raspberry\", \"FruitType\" : \"Druplets\", \"QuantityInKg\" : 1, \"Cost\" : 700, \"Total\" :700},\n",
        "          10022 : {\"FruitName\" : \"Blackberry\", \"FruitType\" : \"Druplets\", \"QuantityInKg\" : 1, \"Cost\" : 800, \"Total\" :800},\n",
        "          10023 : {\"FruitName\" : \"Watermelon\", \"FruitType\" : \"Pepo\", \"QuantityInKg\" : 1, \"Cost\" : 40, \"Total\" :40},\n",
        "          10024 : {\"FruitName\" : \"Nectarine\", \"FruitType\" : \"Drupes\", \"QuantityInKg\" : 1, \"Cost\" : 1050, \"Total\" :1050},\n",
        "          10025 : {\"FruitName\" : \"Goji Berry\", \"FruitType\" : \"Berries\", \"QuantityInKg\" : 1, \"Cost\" : 1300, \"Total\" :1300},\n",
        "          10026 : {\"FruitName\" : \"Honeydew\", \"FruitType\" : \"Pepo\", \"QuantityInKg\" : 1, \"Cost\" : 17, \"Total\" :17},\n",
        "          10027 : {\"FruitName\" : \"Cantaloupe\", \"FruitType\" : \"Pepo\", \"QuantityInKg\" : 1, \"Cost\" : 26, \"Total\" :26},\n",
        "          10028 : {\"FruitName\" : \"Lychee\", \"FruitType\" : \"Tropical\", \"QuantityInKg\" : 1, \"Cost\" : 180, \"Total\" :180},\n",
        "          10029 : {\"FruitName\" : \"Passion Fruit\", \"FruitType\" : \"Tropical\", \"QuantityInKg\" : 1, \"Cost\" : 200, \"Total\" :200},\n",
        "          10030 : {\"FruitName\" : \"Dragon Fruit\", \"FruitType\" : \"Tropical\", \"QuantityInKg\" : 1, \"Cost\" : 145, \"Total\" :145}\n",
        "}"
      ],
      "execution_count": 23,
      "outputs": []
    },
    {
      "cell_type": "markdown",
      "metadata": {
        "id": "a-byQgjNQMu5"
      },
      "source": [
        "**JSON FORMAT**"
      ]
    },
    {
      "cell_type": "code",
      "metadata": {
        "id": "efktbeM5AqIj"
      },
      "source": [
        "content_json=json.dumps(content)"
      ],
      "execution_count": 24,
      "outputs": []
    },
    {
      "cell_type": "code",
      "metadata": {
        "colab": {
          "base_uri": "https://localhost:8080/",
          "height": 191
        },
        "id": "FpcFUNPEAqRm",
        "outputId": "cca86860-b633-46d0-b178-b618bebaf7ab"
      },
      "source": [
        "content_json"
      ],
      "execution_count": 25,
      "outputs": [
        {
          "output_type": "execute_result",
          "data": {
            "application/vnd.google.colaboratory.intrinsic+json": {
              "type": "string"
            },
            "text/plain": [
              "'{\"10001\": {\"FruitName\": \"Cherry\", \"FruitType\": \"Drupes\", \"QuantityInKg\": 1, \"Cost\": 145, \"Total\": 145}, \"10002\": {\"FruitName\": \"Plum\", \"FruitType\": \"Drupes\", \"QuantityInKg\": 1, \"Cost\": 70, \"Total\": 70}, \"10003\": {\"FruitName\": \"Peach\", \"FruitType\": \"Drupes\", \"QuantityInKg\": 1, \"Cost\": 250, \"Total\": 250}, \"10004\": {\"FruitName\": \"Grape\", \"FruitType\": \"Berries\", \"QuantityInKg\": 1, \"Cost\": 40, \"Total\": 40}, \"10005\": {\"FruitName\": \"Blueberry\", \"FruitType\": \"Berries\", \"QuantityInKg\": 1, \"Cost\": 500, \"Total\": 500}, \"10006\": {\"FruitName\": \"Gooseberry\", \"FruitType\": \"Berrries\", \"QuantityInKg\": 1, \"Cost\": 225, \"Total\": 225}, \"10007\": {\"FruitName\": \"Apple\", \"FruitType\": \"Pomes\", \"QuantityInKg\": 1, \"Cost\": 125, \"Total\": 125}, \"10008\": {\"FruitName\": \"Pear\", \"FruitType\": \"Pomes\", \"QuantityInKg\": 1, \"Cost\": 400, \"Total\": 400}, \"10009\": {\"FruitName\": \"Orange\", \"FruitType\": \"Citrus\", \"QuantityInKg\": 1, \"Cost\": 200, \"Total\": 200}, \"10010\": {\"FruitName\": \"Grapefruit\", \"FruitType\": \"Citrus\", \"QuantityInKg\": 1, \"Cost\": 300, \"Total\": 300}, \"10011\": {\"FruitName\": \"Lime\", \"FruitType\": \"Citrus\", \"QuantityInKg\": 1, \"Cost\": 60, \"Total\": 60}, \"10012\": {\"FruitName\": \"Lemon\", \"FruitType\": \"Citrus\", \"QuantityInKg\": 1, \"Cost\": 100, \"Total\": 100}, \"10013\": {\"FruitName\": \"Mandarin\", \"FruitType\": \"Citrus\", \"QuantityInKg\": 1, \"Cost\": 250, \"Total\": 250}, \"10014\": {\"FruitName\": \"Apricot\", \"FruitType\": \"Drupes\", \"QuantityInKg\": 1, \"Cost\": 120, \"Total\": 120}, \"10015\": {\"FruitName\": \"Cranberry\", \"FruitType\": \"Berries\", \"QuantityInKg\": 1, \"Cost\": 480, \"Total\": 480}, \"10016\": {\"FruitName\": \"Banana\", \"FruitType\": \"Tropical\", \"QuantityInKg\": 1, \"Cost\": 36, \"Total\": 36}, \"10017\": {\"FruitName\": \"Papaya\", \"FruitType\": \"Tropical\", \"QuantityInKg\": 1, \"Cost\": 40, \"Total\": 40}, \"10018\": {\"FruitName\": \"Mango\", \"FruitType\": \"Drupes\", \"QuantityInKg\": 1, \"Cost\": 70, \"Total\": 70}, \"10019\": {\"FruitName\": \"Pineapple\", \"FruitType\": \"Tropical\", \"QuantityInKg\": 1, \"Cost\": 28, \"Total\": 28}, \"10020\": {\"FruitName\": \"Guava\", \"FruitType\": \"Tropical\", \"QuantityInKg\": 1, \"Cost\": 100, \"Total\": 100}, \"10021\": {\"FruitName\": \"Raspberry\", \"FruitType\": \"Druplets\", \"QuantityInKg\": 1, \"Cost\": 700, \"Total\": 700}, \"10022\": {\"FruitName\": \"Blackberry\", \"FruitType\": \"Druplets\", \"QuantityInKg\": 1, \"Cost\": 800, \"Total\": 800}, \"10023\": {\"FruitName\": \"Watermelon\", \"FruitType\": \"Pepo\", \"QuantityInKg\": 1, \"Cost\": 40, \"Total\": 40}, \"10024\": {\"FruitName\": \"Nectarine\", \"FruitType\": \"Drupes\", \"QuantityInKg\": 1, \"Cost\": 1050, \"Total\": 1050}, \"10025\": {\"FruitName\": \"Goji Berry\", \"FruitType\": \"Berries\", \"QuantityInKg\": 1, \"Cost\": 1300, \"Total\": 1300}, \"10026\": {\"FruitName\": \"Honeydew\", \"FruitType\": \"Pepo\", \"QuantityInKg\": 1, \"Cost\": 17, \"Total\": 17}, \"10027\": {\"FruitName\": \"Cantaloupe\", \"FruitType\": \"Pepo\", \"QuantityInKg\": 1, \"Cost\": 26, \"Total\": 26}, \"10028\": {\"FruitName\": \"Lychee\", \"FruitType\": \"Tropical\", \"QuantityInKg\": 1, \"Cost\": 180, \"Total\": 180}, \"10029\": {\"FruitName\": \"Passion Fruit\", \"FruitType\": \"Tropical\", \"QuantityInKg\": 1, \"Cost\": 200, \"Total\": 200}, \"10030\": {\"FruitName\": \"Dragon Fruit\", \"FruitType\": \"Tropical\", \"QuantityInKg\": 1, \"Cost\": 145, \"Total\": 145}}'"
            ]
          },
          "metadata": {},
          "execution_count": 25
        }
      ]
    },
    {
      "cell_type": "code",
      "metadata": {
        "id": "sGidJPEr_UjY"
      },
      "source": [
        "json_data=\"\"\"\n",
        "{\"10001\": {\"FruitName\": \"Cherry\", \"FruitType\": \"Drupes\", \"QuantityInKg\": 1, \"Cost\": 145, \"Total\": 145}, \"10002\": {\"FruitName\": \"Plum\", \"FruitType\": \"Drupes\", \"QuantityInKg\": 1, \"Cost\": 70, \"Total\": 70}, \"10003\": {\"FruitName\": \"Peach\", \"FruitType\": \"Drupes\", \"QuantityInKg\": 1, \"Cost\": 250, \"Total\": 250}, \"10004\": {\"FruitName\": \"Grape\", \"FruitType\": \"Berries\", \"QuantityInKg\": 1, \"Cost\": 40, \"Total\": 40}, \"10005\": {\"FruitName\": \"Blueberry\", \"FruitType\": \"Berries\", \"QuantityInKg\": 1, \"Cost\": 500, \"Total\": 500}, \"10006\": {\"FruitName\": \"Gooseberry\", \"FruitType\": \"Berrries\", \"QuantityInKg\": 1, \"Cost\": 225, \"Total\": 225}, \"10007\": {\"FruitName\": \"Apple\", \"FruitType\": \"Pomes\", \"QuantityInKg\": 1, \"Cost\": 125, \"Total\": 125}, \"10008\": {\"FruitName\": \"Pear\", \"FruitType\": \"Pomes\", \"QuantityInKg\": 1, \"Cost\": 400, \"Total\": 400}, \"10009\": {\"FruitName\": \"Orange\", \"FruitType\": \"Citrus\", \"QuantityInKg\": 1, \"Cost\": 200, \"Total\": 200}, \"10010\": {\"FruitName\": \"Grapefruit\", \"FruitType\": \"Citrus\", \"QuantityInKg\": 1, \"Cost\": 300, \"Total\": 300}, \"10011\": {\"FruitName\": \"Lime\", \"FruitType\": \"Citrus\", \"QuantityInKg\": 1, \"Cost\": 60, \"Total\": 60}, \"10012\": {\"FruitName\": \"Lemon\", \"FruitType\": \"Citrus\", \"QuantityInKg\": 1, \"Cost\": 100, \"Total\": 100}, \"10013\": {\"FruitName\": \"Mandarin\", \"FruitType\": \"Citrus\", \"QuantityInKg\": 1, \"Cost\": 250, \"Total\": 250}, \"10014\": {\"FruitName\": \"Apricot\", \"FruitType\": \"Drupes\", \"QuantityInKg\": 1, \"Cost\": 120, \"Total\": 120}, \"10015\": {\"FruitName\": \"Cranberry\", \"FruitType\": \"Berries\", \"QuantityInKg\": 1, \"Cost\": 480, \"Total\": 480}, \"10016\": {\"FruitName\": \"Banana\", \"FruitType\": \"Tropical\", \"QuantityInKg\": 1, \"Cost\": 36, \"Total\": 36}, \"10017\": {\"FruitName\": \"Papaya\", \"FruitType\": \"Tropical\", \"QuantityInKg\": 1, \"Cost\": 40, \"Total\": 40}, \"10018\": {\"FruitName\": \"Mango\", \"FruitType\": \"Drupes\", \"QuantityInKg\": 1, \"Cost\": 70, \"Total\": 70}, \"10019\": {\"FruitName\": \"Pineapple\", \"FruitType\": \"Tropical\", \"QuantityInKg\": 1, \"Cost\": 28, \"Total\": 28}, \"10020\": {\"FruitName\": \"Guava\", \"FruitType\": \"Tropical\", \"QuantityInKg\": 1, \"Cost\": 100, \"Total\": 100}, \"10021\": {\"FruitName\": \"Raspberry\", \"FruitType\": \"Druplets\", \"QuantityInKg\": 1, \"Cost\": 700, \"Total\": 700}, \"10022\": {\"FruitName\": \"Blackberry\", \"FruitType\": \"Druplets\", \"QuantityInKg\": 1, \"Cost\": 800, \"Total\": 800}, \"10023\": {\"FruitName\": \"Watermelon\", \"FruitType\": \"Pepo\", \"QuantityInKg\": 1, \"Cost\": 40, \"Total\": 40}, \"10024\": {\"FruitName\": \"Nectarine\", \"FruitType\": \"Drupes\", \"QuantityInKg\": 1, \"Cost\": 1050, \"Total\": 1050}, \"10025\": {\"FruitName\": \"Goji Berry\", \"FruitType\": \"Berries\", \"QuantityInKg\": 1, \"Cost\": 1300, \"Total\": 1300}, \"10026\": {\"FruitName\": \"Honeydew\", \"FruitType\": \"Pepo\", \"QuantityInKg\": 1, \"Cost\": 17, \"Total\": 17}, \"10027\": {\"FruitName\": \"Cantaloupe\", \"FruitType\": \"Pepo\", \"QuantityInKg\": 1, \"Cost\": 26, \"Total\": 26}, \"10028\": {\"FruitName\": \"Lychee\", \"FruitType\": \"Tropical\", \"QuantityInKg\": 1, \"Cost\": 180, \"Total\": 180}, \"10029\": {\"FruitName\": \"Passion Fruit\", \"FruitType\": \"Tropical\", \"QuantityInKg\": 1, \"Cost\": 200, \"Total\": 200}, \"10030\": {\"FruitName\": \"Dragon Fruit\", \"FruitType\": \"Tropical\", \"QuantityInKg\": 1, \"Cost\": 145, \"Total\": 145}}\n",
        "          \"\"\"\n",
        "          "
      ],
      "execution_count": 26,
      "outputs": []
    },
    {
      "cell_type": "code",
      "metadata": {
        "id": "zWEbc2BP_b9r"
      },
      "source": [
        "\n",
        "content=json.loads(json_data)"
      ],
      "execution_count": 27,
      "outputs": []
    },
    {
      "cell_type": "code",
      "metadata": {
        "colab": {
          "base_uri": "https://localhost:8080/"
        },
        "id": "4VP3MlPp-LWx",
        "outputId": "5657e8a8-1a75-476b-8168-a4fe200dc3f3"
      },
      "source": [
        "content"
      ],
      "execution_count": 28,
      "outputs": [
        {
          "output_type": "execute_result",
          "data": {
            "text/plain": [
              "{'10001': {'Cost': 145,\n",
              "  'FruitName': 'Cherry',\n",
              "  'FruitType': 'Drupes',\n",
              "  'QuantityInKg': 1,\n",
              "  'Total': 145},\n",
              " '10002': {'Cost': 70,\n",
              "  'FruitName': 'Plum',\n",
              "  'FruitType': 'Drupes',\n",
              "  'QuantityInKg': 1,\n",
              "  'Total': 70},\n",
              " '10003': {'Cost': 250,\n",
              "  'FruitName': 'Peach',\n",
              "  'FruitType': 'Drupes',\n",
              "  'QuantityInKg': 1,\n",
              "  'Total': 250},\n",
              " '10004': {'Cost': 40,\n",
              "  'FruitName': 'Grape',\n",
              "  'FruitType': 'Berries',\n",
              "  'QuantityInKg': 1,\n",
              "  'Total': 40},\n",
              " '10005': {'Cost': 500,\n",
              "  'FruitName': 'Blueberry',\n",
              "  'FruitType': 'Berries',\n",
              "  'QuantityInKg': 1,\n",
              "  'Total': 500},\n",
              " '10006': {'Cost': 225,\n",
              "  'FruitName': 'Gooseberry',\n",
              "  'FruitType': 'Berrries',\n",
              "  'QuantityInKg': 1,\n",
              "  'Total': 225},\n",
              " '10007': {'Cost': 125,\n",
              "  'FruitName': 'Apple',\n",
              "  'FruitType': 'Pomes',\n",
              "  'QuantityInKg': 1,\n",
              "  'Total': 125},\n",
              " '10008': {'Cost': 400,\n",
              "  'FruitName': 'Pear',\n",
              "  'FruitType': 'Pomes',\n",
              "  'QuantityInKg': 1,\n",
              "  'Total': 400},\n",
              " '10009': {'Cost': 200,\n",
              "  'FruitName': 'Orange',\n",
              "  'FruitType': 'Citrus',\n",
              "  'QuantityInKg': 1,\n",
              "  'Total': 200},\n",
              " '10010': {'Cost': 300,\n",
              "  'FruitName': 'Grapefruit',\n",
              "  'FruitType': 'Citrus',\n",
              "  'QuantityInKg': 1,\n",
              "  'Total': 300},\n",
              " '10011': {'Cost': 60,\n",
              "  'FruitName': 'Lime',\n",
              "  'FruitType': 'Citrus',\n",
              "  'QuantityInKg': 1,\n",
              "  'Total': 60},\n",
              " '10012': {'Cost': 100,\n",
              "  'FruitName': 'Lemon',\n",
              "  'FruitType': 'Citrus',\n",
              "  'QuantityInKg': 1,\n",
              "  'Total': 100},\n",
              " '10013': {'Cost': 250,\n",
              "  'FruitName': 'Mandarin',\n",
              "  'FruitType': 'Citrus',\n",
              "  'QuantityInKg': 1,\n",
              "  'Total': 250},\n",
              " '10014': {'Cost': 120,\n",
              "  'FruitName': 'Apricot',\n",
              "  'FruitType': 'Drupes',\n",
              "  'QuantityInKg': 1,\n",
              "  'Total': 120},\n",
              " '10015': {'Cost': 480,\n",
              "  'FruitName': 'Cranberry',\n",
              "  'FruitType': 'Berries',\n",
              "  'QuantityInKg': 1,\n",
              "  'Total': 480},\n",
              " '10016': {'Cost': 36,\n",
              "  'FruitName': 'Banana',\n",
              "  'FruitType': 'Tropical',\n",
              "  'QuantityInKg': 1,\n",
              "  'Total': 36},\n",
              " '10017': {'Cost': 40,\n",
              "  'FruitName': 'Papaya',\n",
              "  'FruitType': 'Tropical',\n",
              "  'QuantityInKg': 1,\n",
              "  'Total': 40},\n",
              " '10018': {'Cost': 70,\n",
              "  'FruitName': 'Mango',\n",
              "  'FruitType': 'Drupes',\n",
              "  'QuantityInKg': 1,\n",
              "  'Total': 70},\n",
              " '10019': {'Cost': 28,\n",
              "  'FruitName': 'Pineapple',\n",
              "  'FruitType': 'Tropical',\n",
              "  'QuantityInKg': 1,\n",
              "  'Total': 28},\n",
              " '10020': {'Cost': 100,\n",
              "  'FruitName': 'Guava',\n",
              "  'FruitType': 'Tropical',\n",
              "  'QuantityInKg': 1,\n",
              "  'Total': 100},\n",
              " '10021': {'Cost': 700,\n",
              "  'FruitName': 'Raspberry',\n",
              "  'FruitType': 'Druplets',\n",
              "  'QuantityInKg': 1,\n",
              "  'Total': 700},\n",
              " '10022': {'Cost': 800,\n",
              "  'FruitName': 'Blackberry',\n",
              "  'FruitType': 'Druplets',\n",
              "  'QuantityInKg': 1,\n",
              "  'Total': 800},\n",
              " '10023': {'Cost': 40,\n",
              "  'FruitName': 'Watermelon',\n",
              "  'FruitType': 'Pepo',\n",
              "  'QuantityInKg': 1,\n",
              "  'Total': 40},\n",
              " '10024': {'Cost': 1050,\n",
              "  'FruitName': 'Nectarine',\n",
              "  'FruitType': 'Drupes',\n",
              "  'QuantityInKg': 1,\n",
              "  'Total': 1050},\n",
              " '10025': {'Cost': 1300,\n",
              "  'FruitName': 'Goji Berry',\n",
              "  'FruitType': 'Berries',\n",
              "  'QuantityInKg': 1,\n",
              "  'Total': 1300},\n",
              " '10026': {'Cost': 17,\n",
              "  'FruitName': 'Honeydew',\n",
              "  'FruitType': 'Pepo',\n",
              "  'QuantityInKg': 1,\n",
              "  'Total': 17},\n",
              " '10027': {'Cost': 26,\n",
              "  'FruitName': 'Cantaloupe',\n",
              "  'FruitType': 'Pepo',\n",
              "  'QuantityInKg': 1,\n",
              "  'Total': 26},\n",
              " '10028': {'Cost': 180,\n",
              "  'FruitName': 'Lychee',\n",
              "  'FruitType': 'Tropical',\n",
              "  'QuantityInKg': 1,\n",
              "  'Total': 180},\n",
              " '10029': {'Cost': 200,\n",
              "  'FruitName': 'Passion Fruit',\n",
              "  'FruitType': 'Tropical',\n",
              "  'QuantityInKg': 1,\n",
              "  'Total': 200},\n",
              " '10030': {'Cost': 145,\n",
              "  'FruitName': 'Dragon Fruit',\n",
              "  'FruitType': 'Tropical',\n",
              "  'QuantityInKg': 1,\n",
              "  'Total': 145}}"
            ]
          },
          "metadata": {},
          "execution_count": 28
        }
      ]
    },
    {
      "cell_type": "markdown",
      "metadata": {
        "id": "JE53LjPnP517"
      },
      "source": [
        "**PURCHASE AND BILLING**"
      ]
    },
    {
      "cell_type": "code",
      "metadata": {
        "colab": {
          "base_uri": "https://localhost:8080/"
        },
        "id": "6b0OO5ylFDGt",
        "outputId": "f1023203-94ac-4a25-9d37-fd7635f0b910"
      },
      "source": [
        "fruit_name=str(input(\"Enter the fruit you wish to purchase:\"))\n",
        "product_id=str(input(\"Enter Product ID:\"))\n",
        "quantity=int(input(\"Enter the quantity in kg:\"))\n",
        "print('*****************************************************************')\n",
        "print(\"Price: \", content[product_id]['Cost'])\n",
        "print(\"Billing Amount: \", content[product_id]['Cost'] * quantity)\n",
        "print('*****************************************************************')\n",
        "\n",
        "content[product_id]['QuantityInKg'] = content[product_id]['QuantityInKg'] - quantity"
      ],
      "execution_count": 29,
      "outputs": [
        {
          "output_type": "stream",
          "name": "stdout",
          "text": [
            "Enter the fruit you wish to purchase:Nectarine\n",
            "Enter Product ID:10024\n",
            "Enter the quantity in kg:3\n",
            "*****************************************************************\n",
            "Price:  1050\n",
            "Billing Amount:  3150\n",
            "*****************************************************************\n"
          ]
        }
      ]
    },
    {
      "cell_type": "markdown",
      "metadata": {
        "id": "LKesfPpZQXwO"
      },
      "source": [
        "**UPDATING THE INVENTORY AFTER A PURCHASE**"
      ]
    },
    {
      "cell_type": "code",
      "metadata": {
        "id": "SoZtJjr2IU3N"
      },
      "source": [
        "js = json.dumps(content)\n",
        "fd = open(\"FSI.json\",'w')\n",
        "fd.write(js)\n",
        "fd.close()"
      ],
      "execution_count": 30,
      "outputs": []
    },
    {
      "cell_type": "markdown",
      "metadata": {
        "id": "AXxW51T1YPTd"
      },
      "source": [
        "**SALES JSON**"
      ]
    },
    {
      "cell_type": "code",
      "metadata": {
        "colab": {
          "base_uri": "https://localhost:8080/"
        },
        "id": "Vlgu6kGQYV8z",
        "outputId": "06827f6d-d3b1-4f86-85be-aab4f0b663d7"
      },
      "source": [
        "{\"Product ID\":product_id, \"Product\":fruit_name, \"Quantity\":quantity, \"Amount\":content[product_id]['Cost'], \"Total to be paid\":content[product_id]['Cost'] * quantity}"
      ],
      "execution_count": 31,
      "outputs": [
        {
          "output_type": "execute_result",
          "data": {
            "text/plain": [
              "{'Amount': 1050,\n",
              " 'Product': 'Nectarine',\n",
              " 'Product ID': '10024',\n",
              " 'Quantity': 3,\n",
              " 'Total to be paid': 3150}"
            ]
          },
          "metadata": {},
          "execution_count": 31
        }
      ]
    },
    {
      "cell_type": "code",
      "metadata": {
        "id": "dvyokMNLddCD"
      },
      "source": [
        "sales = {1:{\"Product ID\":product_id, \"Product\":fruit_name, \"Quantity\":quantity, \"Amount\":content[product_id]['Cost'], \"Total to be paid\":content[product_id]['Cost'] * quantity},\n",
        "         2:{\"Product ID\":product_id, \"Product\":fruit_name, \"Quantity\":quantity, \"Amount\":content[product_id]['Cost'], \"Total to be paid\":content[product_id]['Cost'] * quantity},\n",
        "         3:{\"Product ID\":product_id, \"Product\":fruit_name, \"Quantity\":quantity, \"Amount\":content[product_id]['Cost'], \"Total to be paid\":content[product_id]['Cost'] * quantity},\n",
        "         4:{\"Product ID\":product_id, \"Product\":fruit_name, \"Quantity\":quantity, \"Amount\":content[product_id]['Cost'], \"Total to be paid\":content[product_id]['Cost'] * quantity},\n",
        "         5:{\"Product ID\":product_id, \"Product\":fruit_name, \"Quantity\":quantity, \"Amount\":content[product_id]['Cost'], \"Total to be paid\":content[product_id]['Cost'] * quantity}}"
      ],
      "execution_count": 32,
      "outputs": []
    },
    {
      "cell_type": "code",
      "metadata": {
        "id": "QMZ_D4iIeOnz"
      },
      "source": [
        "sale = json.dumps(sales)"
      ],
      "execution_count": 34,
      "outputs": []
    },
    {
      "cell_type": "code",
      "metadata": {
        "colab": {
          "base_uri": "https://localhost:8080/",
          "height": 122
        },
        "id": "x5nD4sePeeh6",
        "outputId": "f0ad94d7-261d-4979-f6ac-78284e6fe6f3"
      },
      "source": [
        "sale"
      ],
      "execution_count": 35,
      "outputs": [
        {
          "output_type": "execute_result",
          "data": {
            "application/vnd.google.colaboratory.intrinsic+json": {
              "type": "string"
            },
            "text/plain": [
              "'{\"1\": {\"Product ID\": \"10024\", \"Product\": \"Nectarine\", \"Quantity\": 3, \"Amount\": 1050, \"Total to be paid\": 3150}, \"2\": {\"Product ID\": \"10024\", \"Product\": \"Nectarine\", \"Quantity\": 3, \"Amount\": 1050, \"Total to be paid\": 3150}, \"3\": {\"Product ID\": \"10024\", \"Product\": \"Nectarine\", \"Quantity\": 3, \"Amount\": 1050, \"Total to be paid\": 3150}, \"4\": {\"Product ID\": \"10024\", \"Product\": \"Nectarine\", \"Quantity\": 3, \"Amount\": 1050, \"Total to be paid\": 3150}, \"5\": {\"Product ID\": \"10024\", \"Product\": \"Nectarine\", \"Quantity\": 3, \"Amount\": 1050, \"Total to be paid\": 3150}}'"
            ]
          },
          "metadata": {},
          "execution_count": 35
        }
      ]
    }
  ]
}